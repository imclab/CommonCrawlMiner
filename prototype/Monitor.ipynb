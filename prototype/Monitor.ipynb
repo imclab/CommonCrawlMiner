{
 "metadata": {
  "name": "",
  "signature": "sha256:f7ed987f3a6e1f22d7eaccd66af8e52bf9192b081521a4f89ddd345e20276ba9"
 },
 "nbformat": 3,
 "nbformat_minor": 0,
 "worksheets": [
  {
   "cells": [
    {
     "cell_type": "heading",
     "level": 2,
     "metadata": {},
     "source": [
      "Monitor the current state of the job using this notebook."
     ]
    },
    {
     "cell_type": "code",
     "collapsed": false,
     "input": [
      "import random,logging\n",
      "import boto.ec2\n",
      "from boto.s3.connection import S3Connection\n",
      "from boto.s3 import key\n",
      "from boto.sqs.connection import SQSConnection\n",
      "\n",
      "logging.getLogger('boto').setLevel(logging.CRITICAL)\n",
      "\n",
      "import config\n",
      "from cclib.utils import SpotInstance\n",
      "from fabfile import ls_bucket,ls_ec2"
     ],
     "language": "python",
     "metadata": {},
     "outputs": [],
     "prompt_number": 1
    },
    {
     "cell_type": "heading",
     "level": 4,
     "metadata": {},
     "source": [
      "List of currently running instances"
     ]
    },
    {
     "cell_type": "code",
     "collapsed": false,
     "input": [
      "ls_ec2()"
     ],
     "language": "python",
     "metadata": {},
     "outputs": [
      {
       "output_type": "stream",
       "stream": "stdout",
       "text": [
        "('request', u'sir-02318vg7', 'spot instance', u'i-567135b8', 'with DNS', u'ec2-54-205-136-104.compute-1.amazonaws.com')\n",
        "ec2-54-205-136-104.compute-1.amazonaws.com\n",
        "Information about current spot instance has been added to temp/hosts\n"
       ]
      }
     ],
     "prompt_number": 5
    },
    {
     "cell_type": "heading",
     "level": 4,
     "metadata": {},
     "source": [
      "Contents of the output bucket and a Randomly selected key from the bucket"
     ]
    },
    {
     "cell_type": "code",
     "collapsed": false,
     "input": [
      "ls_bucket()"
     ],
     "language": "python",
     "metadata": {},
     "outputs": [
      {
       "output_type": "stream",
       "stream": "stdout",
       "text": [
        "Number of keys in the output bucket  804\n",
        "a randomly selected key is written to temp/example.json\n",
        "list of keys are stored in data/index.json\n",
        "\n",
        "\n",
        "\n",
        " Example Contents \n",
        "\n",
        "{\"error\": false, \"url_count\": 23, \"errors\": 0, \"url_list\": [[\"http://deni.pw/watch/watch-the-pirates-2005-online.html\", \"http://deni.pw/watch-video/watch-rio-2-online-putlocker.html\"], [\"http://filetram.com/media-pembelajaran-pkn\", \"/putlocker/1-0/media-pembelajaran-pkn\"], [\"http://filetram.com/ngintip-orang-mandi\", \"/putlocker/1-0/ngintip-orang-mandi\"], [\"http://megashare.info/watch-cars-2-online-TXpNek53PT0\", \"video.php?id=TXpNek53PT0&vhost=putlocker\"], [\"http://www.cinetux.org/2011/06/ver-pelicula-jackass-35-online-gratis.html\", \"http://www2.cinetux.org/external.php?link=http://www.putlocker.com/file/13E633546CF25E01\"], [\"http://www.divxonline.info/pelicula-divx/12884/In-time-2011/\", \"/video/40-putlocker/40392-In-time-2011.html\"], [\"http://www.divxonline.info/pelicula-divx/12884/In-time-2011/\", \"/video/40-putlocker/40392-In-time-2011.html\"], [\"http://www.divxonline.info/pelicula-divx/12884/In-time-2011/\", \"/video/40-putlocker/40392-In-time-2011.html\"], [\"http://www.divxonline.info/pelicula-divx/12884/In-time-2011/\", \"/video/40-putlocker/40392-In-time-2011.html\"], [\"http://www.divxonline.info/pelicula-divx/12884/In-time-2011/\", \"/video/40-putlocker/154977-In-time-2011.html\"], [\"http://www.divxonline.info/pelicula-divx/12884/In-time-2011/\", \"/video/40-putlocker/154977-In-time-2011.html\"], [\"http://www.divxonline.info/pelicula-divx/12884/In-time-2011/\", \"/video/40-putlocker/154977-In-time-2011.html\"], [\"http://www.divxonline.info/pelicula-divx/12884/In-time-2011/\", \"/video/40-putlocker/154977-In-time-2011.html\"], [\"http://www.divxonline.info/pelicula-divx/12884/In-time-2011/\", \"/video/40-putlocker/154978-In-time-2011.html\"], [\"http://www.divxonline.info/pelicula-divx/12884/In-time-2011/\", \"/video/40-putlocker/154978-In-time-2011.html\"], [\"http://www.divxonline.info/pelicula-divx/12884/In-time-2011/\", \"/video/40-putlocker/154978-In-time-2011.html\"], [\"http://www.divxonline.info/pelicula-divx/12884/In-time-2011/\", \"/video/40-putlocker/154978-In-time-2011.html\"], [\"http://www.divxonline.info/pelicula-divx/12884/In-time-2011/\", \"/video/40-putlocker/288373-In-time-2011.html\"], [\"http://www.divxonline.info/pelicula-divx/12884/In-time-2011/\", \"/video/40-putlocker/288373-In-time-2011.html\"], [\"http://www.divxonline.info/pelicula-divx/12884/In-time-2011/\", \"/video/40-putlocker/288373-In-time-2011.html\"], [\"http://www.divxonline.info/pelicula-divx/12884/In-time-2011/\", \"/video/40-putlocker/288373-In-time-2011.html\"], [\"http://www.tubeplus.me/player/124311/Das_Boot/\", \"http://www.google.com/search?q=The+Boat+1981+%28%22putlocker.com%2Fvideo%2F%22+OR+%22http%3A%2F%2Fwww.vidxden.com%2F%22+OR+%22sockshare.com%2Ffile%2F%22+OR+%22movshare.net%2Fvideo%2F%22+OR+%22stagevu.com%2Fvideo%2F%22+OR+%22http%3A%2F%2Fwww.vidbux.com%2F%22+OR+%22http%3A%2F%2Fwww.filebox.com%2F%22+OR+%22novamov.com%2Fvideo%22+OR+%22http%3A%2F%2Fmovreel.com%2F%22%29&oq=2012+%28%22putlocker.com%2Fvideo%2F%22+OR+%22http%3A%2F%2Fwww.vidxden.com%2F%22+OR+%22sockshare.com%2Ffile%2F%22+OR+%22movshare.net%2Fvideo%2F%22+OR+%22stagevu.com%2Fvideo%2F%22+OR+%22http%3A%2F%2Fwww.vidbux.com%2F%22+OR+%22http%3A%2F%2Fwww.filebox.com%2F%22+OR+%22novamov.com%2Fvideo%22+OR+%22http%3A%2F%2Fmovreel.com%2F%22%29\"], [\"http://www1.zmovie.tv/movies/view/hostel-part-iii-2011\", \"http://www.embedder.eu/frame.php?url=http://www.putlocker.com/file/CB6ABF050D50EBE1 \"]], \"filename\": \"common-crawl/crawl-data/CC-MAIN-2014-35/segments/1409535924501.17/wat/CC-MAIN-20140909014305-00424-ip-10-180-136-8.ec2.internal.warc.wat.gz\"}\n"
       ]
      }
     ],
     "prompt_number": 6
    },
    {
     "cell_type": "code",
     "collapsed": false,
     "input": [],
     "language": "python",
     "metadata": {},
     "outputs": []
    }
   ],
   "metadata": {}
  }
 ]
}